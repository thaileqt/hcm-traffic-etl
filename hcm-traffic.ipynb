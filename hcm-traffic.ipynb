{
 "cells": [
  {
   "cell_type": "code",
   "execution_count": 0,
   "metadata": {
    "application/vnd.databricks.v1+cell": {
     "cellMetadata": {
      "byteLimit": 2048000,
      "rowLimit": 10000
     },
     "inputWidgets": {},
     "nuid": "b806d2c5-7f69-49d5-80f5-24cf2d2cf5e0",
     "showTitle": false,
     "title": ""
    }
   },
   "outputs": [
    {
     "output_type": "execute_result",
     "data": {
      "text/plain": [
       "True"
      ]
     },
     "execution_count": 1,
     "metadata": {},
     "output_type": "execute_result"
    }
   ],
   "source": [
    "configs = {\"fs.azure.account.auth.type\": \"OAuth\",\n",
    "\"fs.azure.account.oauth.provider.type\": \"org.apache.hadoop.fs.azurebfs.oauth2.ClientCredsTokenProvider\",\n",
    "\"fs.azure.account.oauth2.client.id\": \"\",\n",
    "\"fs.azure.account.oauth2.client.secret\": '',\n",
    "\"fs.azure.account.oauth2.client.endpoint\": \"https://login.microsoftonline.com/<>/oauth2/token\"}\n",
    "\n",
    "\n",
    "dbutils.fs.mount(\n",
    "source = \"abfss://hcm-traffic-data@realtrafficanalysisdata.dfs.core.windows.net\", # contrainer@storageacc\n",
    "mount_point = \"/mnt/hcm-traffic\",\n",
    "extra_configs = configs)\n",
    "  "
   ]
  },
  {
   "cell_type": "code",
   "execution_count": 0,
   "metadata": {
    "application/vnd.databricks.v1+cell": {
     "cellMetadata": {
      "byteLimit": 2048000,
      "rowLimit": 10000
     },
     "inputWidgets": {},
     "nuid": "31230f08-e3b8-4584-9ee6-4a8c6ae94754",
     "showTitle": false,
     "title": ""
    }
   },
   "outputs": [
    {
     "output_type": "display_data",
     "data": {
      "text/html": [
       "<style scoped>\n",
       "  .table-result-container {\n",
       "    max-height: 300px;\n",
       "    overflow: auto;\n",
       "  }\n",
       "  table, th, td {\n",
       "    border: 1px solid black;\n",
       "    border-collapse: collapse;\n",
       "  }\n",
       "  th, td {\n",
       "    padding: 5px;\n",
       "  }\n",
       "  th {\n",
       "    text-align: left;\n",
       "  }\n",
       "</style><div class='table-result-container'><table class='table-result'><thead style='background-color: white'><tr><th>path</th><th>name</th><th>size</th><th>modificationTime</th></tr></thead><tbody><tr><td>dbfs:/mnt/hcm-traffic/raw/nodes.csv</td><td>nodes.csv</td><td>19444470</td><td>1699606587000</td></tr><tr><td>dbfs:/mnt/hcm-traffic/raw/segment_status.csv</td><td>segment_status.csv</td><td>3579383</td><td>1699606615000</td></tr><tr><td>dbfs:/mnt/hcm-traffic/raw/segments.csv</td><td>segments.csv</td><td>10287487</td><td>1699606600000</td></tr><tr><td>dbfs:/mnt/hcm-traffic/raw/streets.csv</td><td>streets.csv</td><td>201060</td><td>1699606642000</td></tr></tbody></table></div>"
      ]
     },
     "metadata": {
      "application/vnd.databricks.v1+output": {
       "addedWidgets": {},
       "aggData": [],
       "aggError": "",
       "aggOverflow": false,
       "aggSchema": [],
       "aggSeriesLimitReached": false,
       "aggType": "",
       "arguments": {},
       "columnCustomDisplayInfos": {},
       "data": [
        [
         "dbfs:/mnt/hcm-traffic/raw/nodes.csv",
         "nodes.csv",
         19444470,
         1699606587000
        ],
        [
         "dbfs:/mnt/hcm-traffic/raw/segment_status.csv",
         "segment_status.csv",
         3579383,
         1699606615000
        ],
        [
         "dbfs:/mnt/hcm-traffic/raw/segments.csv",
         "segments.csv",
         10287487,
         1699606600000
        ],
        [
         "dbfs:/mnt/hcm-traffic/raw/streets.csv",
         "streets.csv",
         201060,
         1699606642000
        ]
       ],
       "datasetInfos": [],
       "dbfsResultPath": null,
       "isJsonSchema": true,
       "metadata": {
        "isDbfsCommandResult": false
       },
       "overflow": false,
       "plotOptions": {
        "customPlotOptions": {},
        "displayType": "table",
        "pivotAggregation": null,
        "pivotColumns": null,
        "xColumns": null,
        "yColumns": null
       },
       "removedWidgets": [],
       "schema": [
        {
         "metadata": "{}",
         "name": "path",
         "type": "\"string\""
        },
        {
         "metadata": "{}",
         "name": "name",
         "type": "\"string\""
        },
        {
         "metadata": "{}",
         "name": "size",
         "type": "\"long\""
        },
        {
         "metadata": "{}",
         "name": "modificationTime",
         "type": "\"long\""
        }
       ],
       "type": "table"
      }
     },
     "output_type": "display_data"
    }
   ],
   "source": [
    "%fs\n",
    "ls \"/mnt/hcm-traffic/raw\""
   ]
  },
  {
   "cell_type": "code",
   "execution_count": 0,
   "metadata": {
    "application/vnd.databricks.v1+cell": {
     "cellMetadata": {},
     "inputWidgets": {},
     "nuid": "bfc89bc7-3226-4073-98a7-35f268df58bf",
     "showTitle": false,
     "title": ""
    }
   },
   "outputs": [],
   "source": [
    "# "
   ]
  },
  {
   "cell_type": "code",
   "execution_count": 0,
   "metadata": {
    "application/vnd.databricks.v1+cell": {
     "cellMetadata": {
      "byteLimit": 2048000,
      "rowLimit": 10000
     },
     "inputWidgets": {},
     "nuid": "6dc59017-dc0b-49f3-a3b6-55780d51e254",
     "showTitle": false,
     "title": ""
    }
   },
   "outputs": [],
   "source": [
    "nodes = spark.read.format(\"csv\").option(\"inferSchema\", \"true\").option(\"header\", \"true\").load(\"/mnt/hcm-traffic/raw/nodes.csv\")\n",
    "segment_status = spark.read.format(\"csv\").option(\"inferSchema\", \"true\").option(\"header\", \"true\").load(\"/mnt/hcm-traffic/raw/segment_status.csv\")\n",
    "segments = spark.read.format(\"csv\").option(\"inferSchema\", \"true\").option(\"header\", \"true\").load(\"/mnt/hcm-traffic/raw/segments.csv\")\n",
    "streets = spark.read.format(\"csv\").option(\"inferSchema\", \"true\").option(\"header\", \"true\").load(\"/mnt/hcm-traffic/raw/streets.csv\")"
   ]
  },
  {
   "cell_type": "code",
   "execution_count": 0,
   "metadata": {
    "application/vnd.databricks.v1+cell": {
     "cellMetadata": {
      "byteLimit": 2048000,
      "rowLimit": 10000
     },
     "inputWidgets": {},
     "nuid": "eea375e8-04b6-4e80-993e-b69f1ec26560",
     "showTitle": false,
     "title": ""
    }
   },
   "outputs": [
    {
     "output_type": "stream",
     "name": "stdout",
     "output_type": "stream",
     "text": [
      "+---------+-----------+----------+\n|      _id|       long|       lat|\n+---------+-----------+----------+\n|366367223|106.6290559|10.8042433|\n|366367233|106.7097014|10.7711099|\n+---------+-----------+----------+\nonly showing top 2 rows\n\nNone\n+-------+--------------------+-------------------+--------------------+\n|summary|                 _id|               long|                 lat|\n+-------+--------------------+-------------------+--------------------+\n|  count|              577967|             577967|              577967|\n|   mean| 4.315268887282453E9|   106.703699854799|   10.80833211476907|\n| stddev|1.8879835245470002E9|0.06966474231964309|0.049735991885667664|\n|    min|           366367223|        106.5360046|          10.6760012|\n|    max|          6205235785|        106.8679941|          10.8889982|\n+-------+--------------------+-------------------+--------------------+\n\nNone\n"
     ]
    }
   ],
   "source": [
    "print(nodes.show(2))\n",
    "print(nodes.describe().show())"
   ]
  },
  {
   "cell_type": "code",
   "execution_count": 0,
   "metadata": {
    "application/vnd.databricks.v1+cell": {
     "cellMetadata": {
      "byteLimit": 2048000,
      "rowLimit": 10000
     },
     "inputWidgets": {},
     "nuid": "10237323-d938-4c1a-8872-e813b830f55f",
     "showTitle": false,
     "title": ""
    }
   },
   "outputs": [
    {
     "output_type": "stream",
     "name": "stdout",
     "output_type": "stream",
     "text": [
      "+---+--------------------+----------+--------+\n|_id|          updated_at|segment_id|velocity|\n+---+--------------------+----------+--------+\n|  0|2020-07-03 14:55:...|     24845|      20|\n|  1|2020-07-03 15:02:...|     33923|      10|\n+---+--------------------+----------+--------+\nonly showing top 2 rows\n\n+-------+-----------------+------------------+-----------------+\n|summary|              _id|        segment_id|         velocity|\n+-------+-----------------+------------------+-----------------+\n|  count|            90938|             90938|            90938|\n|   mean|          45468.5| 40376.03000945699|20.75484395962084|\n| stddev|26251.68372695359|22415.108133187623|19.56711229934773|\n|    min|                0|                26|                0|\n|    max|            90937|             84535|              200|\n+-------+-----------------+------------------+-----------------+\n\n"
     ]
    }
   ],
   "source": [
    "segment_status.show(2)\n",
    "segment_status.describe().show()"
   ]
  },
  {
   "cell_type": "code",
   "execution_count": 0,
   "metadata": {
    "application/vnd.databricks.v1+cell": {
     "cellMetadata": {
      "byteLimit": 2048000,
      "rowLimit": 10000
     },
     "inputWidgets": {},
     "nuid": "99031a6a-9c00-41a5-b516-a84036a96e29",
     "showTitle": false,
     "title": ""
    }
   },
   "outputs": [
    {
     "output_type": "stream",
     "name": "stdout",
     "output_type": "stream",
     "text": [
      "+---+--------------------+--------------------+----------+----------+------+---------+------------+------------+-----------+-----------+\n|_id|          created_at|          updated_at| s_node_id| e_node_id|length|street_id|max_velocity|street_level|street_name|street_type|\n+---+--------------------+--------------------+----------+----------+------+---------+------------+------------+-----------+-----------+\n|  0|2020-10-18 13:26:...|2020-10-18 13:26:...| 373543511|5468660805|   114| 31096786|        80.0|           1|  Quốc Lộ 1|      trunk|\n|  1|2020-10-18 13:26:...|2020-10-18 13:26:...|5468660805|5738158916|     9| 31096786|        80.0|           1|  Quốc Lộ 1|      trunk|\n+---+--------------------+--------------------+----------+----------+------+---------+------------+------------+-----------+-----------+\nonly showing top 2 rows\n\n+-------+------------------+--------------------+--------------------+-----------------+--------------------+------------------+------------------+------------------+-----------+\n|summary|               _id|           s_node_id|           e_node_id|           length|           street_id|      max_velocity|      street_level|       street_name|street_type|\n+-------+------------------+--------------------+--------------------+-----------------+--------------------+------------------+------------------+------------------+-----------+\n|  count|             84633|               84633|               84633|            84633|               84633|              9871|             84633|             84481|      84633|\n|   mean|           42316.0|3.6740414655058546E9|3.6727246403231244E9|41.81804969692673|2.8669038769334656E8| 54.50359639347584|    3.500005907861|              12.0|       NULL|\n| stddev|24431.587003303735|2.0397559440572014E9|2.0400562392575905E9|52.69233638201524|2.0855257801019233E8|16.553366530657172|0.8412222690293226|5.5405482056024615|       NULL|\n|    min|                 0|           366367233|           366367233|                0|            31096786|              10.0|                 1|                18| apartments|\n|    max|             84632|          6175932046|          6175932046|             1622|           658328101|             120.0|                 4|          安阳王路|        yes|\n+-------+------------------+--------------------+--------------------+-----------------+--------------------+------------------+------------------+------------------+-----------+\n\n"
     ]
    }
   ],
   "source": [
    "segments.show(2)\n",
    "segments.describe().show()"
   ]
  },
  {
   "cell_type": "code",
   "execution_count": 0,
   "metadata": {
    "application/vnd.databricks.v1+cell": {
     "cellMetadata": {
      "byteLimit": 2048000,
      "rowLimit": 10000
     },
     "inputWidgets": {},
     "nuid": "f0b227eb-5076-48e8-8a5a-2f8075d171d3",
     "showTitle": false,
     "title": ""
    }
   },
   "outputs": [
    {
     "output_type": "stream",
     "name": "stdout",
     "output_type": "stream",
     "text": [
      "+--------+-----+------------+--------------+------------+\n|     _id|level|max_velocity|          name|        type|\n+--------+-----+------------+--------------+------------+\n|31096786|    1|          80|     Quốc Lộ 1|       trunk|\n|32575737|    4|        NULL|          NULL|unclassified|\n|32575794|    4|        NULL|    Chu Văn An|unclassified|\n|32575820|    4|        NULL| Nguyễn Văn Bá|    tertiary|\n|32575823|    4|        NULL|Nguyễn Thị Nhỏ|    tertiary|\n+--------+-----+------------+--------------+------------+\nonly showing top 5 rows\n\n+-------+-------------------+------------------+------------------+---------+------------+\n|summary|                _id|             level|      max_velocity|     name|        type|\n+-------+-------------------+------------------+------------------+---------+------------+\n|  count|               5553|              5553|               987|     3948|        5553|\n|   mean|3.457454960606879E8| 3.199711867459031|58.232016210739616|     NULL|        NULL|\n| stddev|2.017848512620869E8|0.9918180715199273|16.046644366460914|     NULL|        NULL|\n|    min|           31096786|                 1|                10|3 Tháng 2|    motorway|\n|    max|          658328101|                 4|               120|   Ấp Bắc|unclassified|\n+-------+-------------------+------------------+------------------+---------+------------+\n\n"
     ]
    }
   ],
   "source": [
    "streets.show(5)\n",
    "streets.describe().show()"
   ]
  },
  {
   "cell_type": "code",
   "execution_count": 0,
   "metadata": {
    "application/vnd.databricks.v1+cell": {
     "cellMetadata": {
      "byteLimit": 2048000,
      "rowLimit": 10000
     },
     "inputWidgets": {},
     "nuid": "3fe0610e-27a2-40fa-9fda-c3a38c5af40f",
     "showTitle": false,
     "title": ""
    }
   },
   "outputs": [],
   "source": [
    "from pyspark.sql.functions import col, monotonically_increasing_id, date_format, avg, sum\n",
    "import pyspark.sql.functions as F\n",
    "\n",
    "import pandas as pd"
   ]
  },
  {
   "cell_type": "code",
   "execution_count": 0,
   "metadata": {
    "application/vnd.databricks.v1+cell": {
     "cellMetadata": {
      "byteLimit": 2048000,
      "rowLimit": 10000
     },
     "inputWidgets": {},
     "nuid": "69906ff7-2a47-4e8a-b4af-134d0dddd517",
     "showTitle": false,
     "title": ""
    }
   },
   "outputs": [
    {
     "output_type": "stream",
     "name": "stdout",
     "output_type": "stream",
     "text": [
      "+---+----------+--------------------+--------------------+--------+------------+---------+----------+------+---------+------------+-------------+-----------+-----------+----------+-----+---------+\n|_id|segment_id|          created_at|          updated_at|velocity|max_velocity|s_node_id| e_node_id|length|street_id|street_level|  street_name|street_type|       long|       lat|level|     type|\n+---+----------+--------------------+--------------------+--------+------------+---------+----------+------+---------+------------+-------------+-----------+-----------+----------+-----+---------+\n|  0|        26|2020-10-18 13:26:...|2021-04-16 00:55:...|     117|        NULL|366428456| 366416066|   116| 32575820|           4|Nguyễn Văn Bá|   tertiary|106.7687324|10.8415062|    4| tertiary|\n|  1|        33|2020-10-18 13:26:...|2020-08-03 00:23:...|      27|        NULL|366469460|3792257828|    26| 32575862|           3|   Đường số 5|  secondary|106.7619572|  10.87865|    3|secondary|\n|  2|        33|2020-10-18 13:26:...|2020-08-03 00:20:...|      32|        NULL|366469460|3792257828|    26| 32575862|           3|   Đường số 5|  secondary|106.7619572|  10.87865|    3|secondary|\n|  3|        33|2020-10-18 13:26:...|2020-08-03 00:17:...|      20|        NULL|366469460|3792257828|    26| 32575862|           3|   Đường số 5|  secondary|106.7619572|  10.87865|    3|secondary|\n|  4|        33|2020-10-18 13:26:...|2020-08-03 00:14:...|      23|        NULL|366469460|3792257828|    26| 32575862|           3|   Đường số 5|  secondary|106.7619572|  10.87865|    3|secondary|\n|  5|        33|2020-10-18 13:26:...|2020-08-03 00:11:...|       2|        NULL|366469460|3792257828|    26| 32575862|           3|   Đường số 5|  secondary|106.7619572|  10.87865|    3|secondary|\n|  6|        33|2020-10-18 13:26:...|2020-08-03 00:08:...|      19|        NULL|366469460|3792257828|    26| 32575862|           3|   Đường số 5|  secondary|106.7619572|  10.87865|    3|secondary|\n|  7|        33|2020-10-18 13:26:...|2020-08-03 00:05:...|      35|        NULL|366469460|3792257828|    26| 32575862|           3|   Đường số 5|  secondary|106.7619572|  10.87865|    3|secondary|\n|  8|        33|2020-10-18 13:26:...|2020-08-03 00:02:...|       2|        NULL|366469460|3792257828|    26| 32575862|           3|   Đường số 5|  secondary|106.7619572|  10.87865|    3|secondary|\n|  9|        33|2020-10-18 13:26:...|2020-08-02 23:59:...|      26|        NULL|366469460|3792257828|    26| 32575862|           3|   Đường số 5|  secondary|106.7619572|  10.87865|    3|secondary|\n+---+----------+--------------------+--------------------+--------+------------+---------+----------+------+---------+------------+-------------+-----------+-----------+----------+-----+---------+\nonly showing top 10 rows\n\n"
     ]
    }
   ],
   "source": [
    "merged_df = segment_status.join(segments, segment_status['segment_id'] == segments['_id'], 'inner')\\\n",
    "    .select(segment_status['segment_id'], segments['created_at'], segment_status['updated_at'], segment_status['velocity'], segments['max_velocity'], \\\n",
    "        segments['s_node_id'], segments['e_node_id'], segments['length'], segments['street_id'], segments['street_level'], segments['street_name'], segments['street_type'])\n",
    "# merged_df = merged_df.dropDuplicates(['street_id'])\n",
    "merged_df = merged_df.join(nodes, merged_df['s_node_id'] == nodes['_id'].alias('node_id'), 'left')\n",
    "merged_df = merged_df.drop(nodes['_id'])\n",
    "\n",
    "merged_df = merged_df.join(streets, merged_df['street_id'] == streets['_id'], 'left')\n",
    "merged_df = merged_df.drop(streets['_id'], streets['max_velocity'], streets['name'])\n",
    "\n",
    "# add index column\n",
    "merged_df = merged_df.withColumn(\"_id\", monotonically_increasing_id())\n",
    "columns = merged_df.columns\n",
    "columns.insert(0, columns.pop(columns.index('_id')))\n",
    "merged_df = merged_df.select(columns)\n",
    "\n",
    "\n",
    "merged_df.show(10)"
   ]
  },
  {
   "cell_type": "code",
   "execution_count": 0,
   "metadata": {
    "application/vnd.databricks.v1+cell": {
     "cellMetadata": {
      "byteLimit": 2048000,
      "rowLimit": 10000
     },
     "inputWidgets": {},
     "nuid": "8dad5390-f90d-4937-9031-40f793cdb5ba",
     "showTitle": false,
     "title": ""
    }
   },
   "outputs": [
    {
     "output_type": "stream",
     "name": "stdout",
     "output_type": "stream",
     "text": [
      "+-------+-------------------+------------------+-----------------+------------------+--------------------+--------------------+------------------+--------------------+------------------+-----------+-----------+-------------------+-------------------+------------------+------------+\n|summary|                _id|        segment_id|         velocity|      max_velocity|           s_node_id|           e_node_id|            length|           street_id|      street_level|street_name|street_type|               long|                lat|             level|        type|\n+-------+-------------------+------------------+-----------------+------------------+--------------------+--------------------+------------------+--------------------+------------------+-----------+-----------+-------------------+-------------------+------------------+------------+\n|  count|              90938|             90938|            90938|              8618|               90938|               90938|             90938|               90938|             90938|      90937|      90938|              90938|              90938|             90938|       90938|\n|   mean|5.936687745764521E9| 40376.03000945699|20.75484395962084| 55.33070317939197|3.7741427891905694E9|3.7798212843377686E9|45.158041742725814|2.6704377767748356E8| 3.191823000285909|       18.0|       NULL| 106.66623202079745| 10.789889282390089| 3.191823000285909|        NULL|\n| stddev|5.589552960998393E9|22415.108133187554|19.56711229934778|16.187681214021193| 1.875131932832042E9|  1.88936088492572E9| 46.53776201681503|1.8899319103766948E8|0.9738424339202411|        0.0|       NULL|0.03352229167692116|0.03532836307053919|0.9738424339202411|        NULL|\n|    min|                  0|                26|                0|              10.0|           366367392|           366367839|                 0|            32575820|                 1|         18|       bank|        106.5374757|         10.6764523|                 1|    motorway|\n|    max|        17179878729|             84535|              200|             120.0|          6175932046|          6175932046|              1011|           656562463|                 4|     Ấp Bắc| university|        106.8677402|         10.8889654|                 4|unclassified|\n+-------+-------------------+------------------+-----------------+------------------+--------------------+--------------------+------------------+--------------------+------------------+-----------+-----------+-------------------+-------------------+------------------+------------+\n\n"
     ]
    }
   ],
   "source": [
    "merged_df.describe().show()"
   ]
  },
  {
   "cell_type": "code",
   "execution_count": 0,
   "metadata": {
    "application/vnd.databricks.v1+cell": {
     "cellMetadata": {
      "byteLimit": 2048000,
      "rowLimit": 10000
     },
     "inputWidgets": {},
     "nuid": "7ca3b561-89bc-4dcc-9a39-4da962a24930",
     "showTitle": false,
     "title": ""
    }
   },
   "outputs": [
    {
     "output_type": "stream",
     "name": "stdout",
     "output_type": "stream",
     "text": [
      "+--------------------+------------------+\n|         street_name|      avg_velocity|\n+--------------------+------------------+\n|          Đường số 9| 19.88888888888889|\n|            Đồng Đen|             15.75|\n|      Trần Đại Nghĩa| 34.07142857142857|\n|      Nguyễn Văn Lạc|              13.7|\n|          Lê Văn Chí|              22.9|\n|           Linh Đông|16.692307692307693|\n|       Hoàng Văn Thụ| 7.369555249885374|\n|          Thành Thái|20.536800785083415|\n|      Trần Văn Quang| 19.98840579710145|\n|            Trần Quý|19.648979591836735|\n|         Cầu Băng Ky|              39.0|\n|      Đường tỉnh 743|              36.5|\n|      Dương Thị Mười|46.666666666666664|\n|     Nguyễn Thị Đặng|49.285714285714285|\n|        Nguyễn Tuyển|              19.4|\n|Cầu vượt Ngã tư T...|              17.0|\n|         Võ Văn Kiệt|12.254259501965924|\n|      Đào Trinh Nhất|21.333333333333332|\n|          Minh Phụng|19.313953488372093|\n|       Trần Văn Giàu|             23.08|\n+--------------------+------------------+\nonly showing top 20 rows\n\n"
     ]
    }
   ],
   "source": [
    "avg_velocity_per_street = merged_df.groupBy('street_name').agg(avg('velocity').alias('avg_velocity'))\n",
    "avg_velocity_per_street.show()"
   ]
  },
  {
   "cell_type": "code",
   "execution_count": 0,
   "metadata": {
    "application/vnd.databricks.v1+cell": {
     "cellMetadata": {
      "byteLimit": 2048000,
      "rowLimit": 10000
     },
     "inputWidgets": {},
     "nuid": "1d6042f7-b69a-4972-a727-42fa22a98e10",
     "showTitle": false,
     "title": ""
    }
   },
   "outputs": [
    {
     "output_type": "stream",
     "name": "stdout",
     "output_type": "stream",
     "text": [
      "+--------------------+------------+\n|         street_name|total_length|\n+--------------------+------------+\n|          Đường số 9|         228|\n|            Đồng Đen|        1254|\n|      Trần Đại Nghĩa|        2496|\n|      Nguyễn Văn Lạc|         180|\n|          Lê Văn Chí|        2018|\n|           Linh Đông|         382|\n|       Hoàng Văn Thụ|       95025|\n|          Thành Thái|       42655|\n|      Trần Văn Quang|       12199|\n|            Trần Quý|       15940|\n|         Cầu Băng Ky|          89|\n|      Đường tỉnh 743|          26|\n|      Dương Thị Mười|          47|\n|     Nguyễn Thị Đặng|         880|\n|        Nguyễn Tuyển|         350|\n|Cầu vượt Ngã tư T...|         393|\n|         Võ Văn Kiệt|       40514|\n|      Đào Trinh Nhất|        2053|\n|          Minh Phụng|       16090|\n|       Trần Văn Giàu|        1169|\n+--------------------+------------+\nonly showing top 20 rows\n\n"
     ]
    }
   ],
   "source": [
    "total_length_per_street = merged_df.groupBy('street_name').agg(sum('length').alias('total_length'))\n",
    "total_length_per_street.show()"
   ]
  },
  {
   "cell_type": "code",
   "execution_count": 0,
   "metadata": {
    "application/vnd.databricks.v1+cell": {
     "cellMetadata": {
      "byteLimit": 2048000,
      "rowLimit": 10000
     },
     "inputWidgets": {},
     "nuid": "e378ea73-aa21-43d4-b83a-fb2bb7c62199",
     "showTitle": false,
     "title": ""
    }
   },
   "outputs": [
    {
     "output_type": "stream",
     "name": "stdout",
     "output_type": "stream",
     "text": [
      "+---------+-----------+------------+-----------------+------------+------------+\n|      _id|street_name|total_length|     avg_velocity|max_velocity|        type|\n+---------+-----------+------------+-----------------+------------+------------+\n|462968808| Đường số 9|         228|19.88888888888889|          40|    tertiary|\n| 32578171| Đường số 9|         228|19.88888888888889|        NULL|unclassified|\n|377308634|   Đồng Đen|        1254|            15.75|        NULL|    tertiary|\n|377308631|   Đồng Đen|        1254|            15.75|        NULL|    tertiary|\n|223642675|   Đồng Đen|        1254|            15.75|        NULL|    tertiary|\n+---------+-----------+------------+-----------------+------------+------------+\nonly showing top 5 rows\n\n"
     ]
    }
   ],
   "source": [
    "street_info_df = avg_velocity_per_street.join(total_length_per_street, avg_velocity_per_street['street_name'] == total_length_per_street['street_name'])\n",
    "\n",
    "street_info_df = street_info_df.drop(total_length_per_street['street_name'])\n",
    "\n",
    "street_info_df = street_info_df.join(streets, street_info_df['street_name'] == streets['name'], 'left')\n",
    "street_info_df = street_info_df.select('_id', 'street_name', 'total_length', 'avg_velocity', 'max_velocity', 'type')\n",
    "street_info_df.show(5)"
   ]
  },
  {
   "cell_type": "code",
   "execution_count": 0,
   "metadata": {
    "application/vnd.databricks.v1+cell": {
     "cellMetadata": {
      "byteLimit": 2048000,
      "rowLimit": 10000
     },
     "inputWidgets": {},
     "nuid": "c129f115-2b88-422a-8e18-563e4a3ed11f",
     "showTitle": false,
     "title": ""
    }
   },
   "outputs": [
    {
     "output_type": "stream",
     "name": "stdout",
     "output_type": "stream",
     "text": [
      "+-------+--------------------+-----------+------------------+------------------+------------------+------------+\n|summary|                 _id|street_name|      total_length|      avg_velocity|      max_velocity|        type|\n+-------+--------------------+-----------+------------------+------------------+------------------+------------+\n|  count|                2954|       3086|              3086|              3086|               660|        2954|\n|   mean| 3.042786202728504E8|       18.0|15581.941672067402|26.733217242600144| 58.99242424242424|        NULL|\n| stddev|1.9512756161963928E8|       NULL|31440.292451025296|12.720853874038998|15.904922464626624|        NULL|\n|    min|            31096786|         18|                 2|               1.0|                10|    motorway|\n|    max|           658328101|     Ấp Bắc|            209379|              89.5|               120|unclassified|\n+-------+--------------------+-----------+------------------+------------------+------------------+------------+\n\n"
     ]
    }
   ],
   "source": [
    "street_info_df.describe().show()"
   ]
  },
  {
   "cell_type": "code",
   "execution_count": 0,
   "metadata": {
    "application/vnd.databricks.v1+cell": {
     "cellMetadata": {
      "byteLimit": 2048000,
      "rowLimit": 10000
     },
     "inputWidgets": {},
     "nuid": "62a2406d-78d6-439c-a5d2-6bac682202c2",
     "showTitle": false,
     "title": ""
    }
   },
   "outputs": [],
   "source": [
    "merged_df.repartition(10).write.mode(\"overwrite\").option(\"header\",\"true\").csv(\"/mnt/hcm-traffic/transformed/traffics\")\n",
    "street_info_df.repartition(1).write.mode(\"overwrite\").option(\"header\",\"true\").csv(\"/mnt/hcm-traffic/transformed/streets\")"
   ]
  },
  {
   "cell_type": "code",
   "execution_count": 0,
   "metadata": {
    "application/vnd.databricks.v1+cell": {
     "cellMetadata": {},
     "inputWidgets": {},
     "nuid": "1caadc42-25ca-4a08-9797-3a12b699ed6a",
     "showTitle": false,
     "title": ""
    }
   },
   "outputs": [],
   "source": []
  }
 ],
 "metadata": {
  "application/vnd.databricks.v1+notebook": {
   "dashboards": [],
   "language": "python",
   "notebookMetadata": {
    "mostRecentlyExecutedCommandWithImplicitDF": {
     "commandId": 2667091560480851,
     "dataframes": [
      "_sqldf"
     ]
    },
    "pythonIndentUnit": 4
   },
   "notebookName": "hcm-traffic",
   "widgets": {}
  }
 },
 "nbformat": 4,
 "nbformat_minor": 0
}
